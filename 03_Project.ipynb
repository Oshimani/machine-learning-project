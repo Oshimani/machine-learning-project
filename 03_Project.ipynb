{
 "cells": [
  {
   "cell_type": "code",
   "execution_count": null,
   "metadata": {},
   "outputs": [],
   "source": [
    "# Install Packages\n",
    "\n",
    "# for path handling\n",
    "import pathlib\n",
    "\n",
    "# for loading images into numpy\n",
    "import imageio\n",
    "\n",
    "import numpy as np\n",
    "import pandas as pd\n",
    "\n",
    "# for greyscale conversion\n",
    "from skimage.color import rgb2gray\n",
    "\n",
    "# for plotting\n",
    "import matplotlib.pyplot as plt"
   ]
  },
  {
   "cell_type": "markdown",
   "metadata": {},
   "source": [
    "# Reading Data and Data Preparation\n",
    "\n",
    "https://www.kaggle.com/code/vanausloos/how-to-read-images-in-python/notebook"
   ]
  },
  {
   "cell_type": "code",
   "execution_count": null,
   "metadata": {},
   "outputs": [],
   "source": [
    "# get paths to images\n",
    "paths_to_images = pathlib.Path('./images').glob('**/*.jpeg')\n",
    "paths_sorted = sorted([x for x in paths_to_images])\n",
    "\n",
    "sample_image = imageio.imread(paths_sorted[24])"
   ]
  },
  {
   "cell_type": "code",
   "execution_count": null,
   "metadata": {},
   "outputs": [],
   "source": [
    "# initialize data set\n",
    "train_X = pd.DataFrame([imageio.imread(path) for path in paths_sorted], columns=[\"image\"])\n",
    "\n",
    "# check if images are loaded propperly\n",
    "\n",
    "def plot_image(image, suspension_type=\"\"):\n",
    "    plt.imshow(image, cmap=\"gray\")\n",
    "    if(suspension_type != \"\"):\n",
    "        plt.title(suspension_type)\n",
    "    plt.show()\n",
    "\n",
    "\n",
    "plot_image(sample_image)\n",
    "print(\"See image of colored bike? Nice! everything worked as expected.\")\n"
   ]
  },
  {
   "cell_type": "code",
   "execution_count": null,
   "metadata": {},
   "outputs": [],
   "source": [
    "# Grey Scale images\n",
    "print(f\"Colored (original) images shape: {sample_image.shape}\")\n",
    "# shows height, width and depth (which is colors r,g,b)\n",
    "\n",
    "sample_image_grey = rgb2gray(sample_image)\n",
    "print(f\"Grey scale images shape: {sample_image_grey.shape}\")\n",
    "# colors have been removed\n",
    "\n",
    "plot_image(sample_image_grey)\n",
    "print(\"See black and white image of the same bike? Lets go!\")\n",
    "\n",
    "# Apply grey scale conversion to all images\n",
    "train_X[\"image\"] = train_X[\"image\"].apply(rgb2gray)\n"
   ]
  },
  {
   "cell_type": "markdown",
   "metadata": {},
   "source": [
    "# Adding target variable\n",
    " We can determine wether a bike has full suspension or nor by looking at the file path"
   ]
  },
  {
   "cell_type": "code",
   "execution_count": null,
   "metadata": {},
   "outputs": [],
   "source": [
    "def extract_suspension_from_path(path: pathlib.PosixPath):\n",
    "    if path.match('*/fullys/*'):\n",
    "        return \"fully\"\n",
    "    if path.match(\"*/hardtails/*\"):\n",
    "        return \"hardtail\"\n",
    "\n",
    "train_X[\"suspension\"] = pd.DataFrame([extract_suspension_from_path(path) for path in paths_sorted])\n",
    "\n",
    "# count types of suspension\n",
    "print(train_X[\"suspension\"].value_counts())\n",
    "\n"
   ]
  },
  {
   "cell_type": "code",
   "execution_count": null,
   "metadata": {},
   "outputs": [],
   "source": [
    "# check if that worked\n",
    "\n",
    "# print some images\n",
    "plot_image(train_X[\"image\"][0], train_X[\"suspension\"][0])\n",
    "plot_image(train_X[\"image\"][10], train_X[\"suspension\"][10])\n",
    "plot_image(train_X[\"image\"][100], train_X[\"suspension\"][100])\n",
    "plot_image(train_X[\"image\"][120], train_X[\"suspension\"][120])"
   ]
  },
  {
   "cell_type": "markdown",
   "metadata": {},
   "source": [
    "# One Hot Encoding\n",
    "\n",
    "we need numeric values for ml to work"
   ]
  },
  {
   "cell_type": "code",
   "execution_count": null,
   "metadata": {},
   "outputs": [],
   "source": [
    "# RUN THIS CELL ONLY ONCE\n",
    "\n",
    "# apply one hot encoding to suspension\n",
    "train_X = pd.concat([train_X, pd.get_dummies(train_X[\"suspension\"], prefix=\"suspension_is\")], axis=1)"
   ]
  },
  {
   "cell_type": "code",
   "execution_count": null,
   "metadata": {},
   "outputs": [],
   "source": [
    "# check if one hot encoding worked as expected\n",
    "print(train_X[\"suspension_is_fully\"].head())\n",
    "print(train_X[\"suspension_is_fully\"].tail())"
   ]
  }
 ],
 "metadata": {
  "interpreter": {
   "hash": "31f2aee4e71d21fbe5cf8b01ff0e069b9275f58929596ceb00d14d90e3e16cd6"
  },
  "kernelspec": {
   "display_name": "Python 3.6.9 64-bit",
   "language": "python",
   "name": "python3"
  },
  "language_info": {
   "codemirror_mode": {
    "name": "ipython",
    "version": 3
   },
   "file_extension": ".py",
   "mimetype": "text/x-python",
   "name": "python",
   "nbconvert_exporter": "python",
   "pygments_lexer": "ipython3",
   "version": "3.6.9"
  },
  "orig_nbformat": 4
 },
 "nbformat": 4,
 "nbformat_minor": 2
}
