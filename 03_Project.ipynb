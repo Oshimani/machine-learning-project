{
 "cells": [
  {
   "cell_type": "code",
   "execution_count": null,
   "metadata": {},
   "outputs": [],
   "source": [
    "# Install Packages\n",
    "\n",
    "# for path handling\n",
    "import pathlib\n",
    "\n",
    "# for loading images into numpy\n",
    "import imageio\n",
    "\n",
    "import numpy as np\n",
    "\n",
    "# for greyscale conversion\n",
    "from skimage.color import rgb2gray\n",
    "\n",
    "# for plotting\n",
    "import matplotlib.pyplot as plt"
   ]
  },
  {
   "cell_type": "markdown",
   "metadata": {},
   "source": [
    "# Reading Data and Data Preparation\n",
    "\n",
    "https://www.kaggle.com/code/vanausloos/how-to-read-images-in-python/notebook"
   ]
  },
  {
   "cell_type": "code",
   "execution_count": null,
   "metadata": {},
   "outputs": [],
   "source": [
    "# get paths to images\n",
    "paths_to_images = pathlib.Path('./images').glob('**/*.jpeg')\n",
    "paths_sorted = sorted([x for x in paths_to_images])\n",
    "\n",
    "sample_image = imageio.imread(paths_sorted[24])"
   ]
  },
  {
   "cell_type": "code",
   "execution_count": null,
   "metadata": {},
   "outputs": [],
   "source": [
    "# initialize data set\n",
    "train_X = np.array([imageio.imread(path) for path in paths_sorted])\n",
    "\n",
    "# check if images are loaded propperly\n",
    "\n",
    "def plot_image(image):\n",
    "    plt.imshow(image,cmap=\"gray\")\n",
    "    plt.show()\n",
    "\n",
    "plot_image(sample_image)\n",
    "print(\"See image of colored bike? Nice! everything worked as expected.\")"
   ]
  },
  {
   "cell_type": "code",
   "execution_count": null,
   "metadata": {},
   "outputs": [],
   "source": [
    "# Grey Scale images\n",
    "print(f\"Colored (original) images shape: {sample_image.shape}\")\n",
    "# shows height, width and depth (which is colors r,g,b)\n",
    "\n",
    "sample_image_grey = rgb2gray(sample_image)\n",
    "print(f\"Grey scale images shape: {sample_image_grey.shape}\")\n",
    "# colors have been removed\n",
    "\n",
    "plot_image(sample_image_grey)\n",
    "print(\"See black and white image of the same bike? Lets go!\")\n",
    "\n",
    "# Apply grey scale conversion to all images\n",
    "train_X_grey = np.array([rgb2gray(image) for image in train_X])\n"
   ]
  }
 ],
 "metadata": {
  "interpreter": {
   "hash": "31f2aee4e71d21fbe5cf8b01ff0e069b9275f58929596ceb00d14d90e3e16cd6"
  },
  "kernelspec": {
   "display_name": "Python 3.6.9 64-bit",
   "language": "python",
   "name": "python3"
  },
  "language_info": {
   "codemirror_mode": {
    "name": "ipython",
    "version": 3
   },
   "file_extension": ".py",
   "mimetype": "text/x-python",
   "name": "python",
   "nbconvert_exporter": "python",
   "pygments_lexer": "ipython3",
   "version": "3.6.9"
  },
  "orig_nbformat": 4
 },
 "nbformat": 4,
 "nbformat_minor": 2
}
